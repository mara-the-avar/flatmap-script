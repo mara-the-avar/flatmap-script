{
 "cells": [
  {
   "cell_type": "code",
   "execution_count": null,
   "id": "0e8d6dc1-1e91-4f02-904a-759dc3acd528",
   "metadata": {},
   "outputs": [],
   "source": [
    "# DEPENDENCIES:\n",
    "# AFNI, FSL, ConnectomeWorkbench, and Freesurfer (the four horsemen)\n",
    "# R, and R packages \"freesurferformats\" and \"gifti\""
   ]
  },
  {
   "cell_type": "code",
   "execution_count": 2,
   "id": "48be8209-155c-492e-ad30-8e8e0cec85e4",
   "metadata": {},
   "outputs": [],
   "source": [
    "cd ~/\n",
    "\n",
    "### SET SUBJECT:\n",
    "subj=test\n",
    "###\n",
    "\n",
    "\n",
    "### SET DIRECTORIES PROPERLY\n",
    "### SET DIRECTORIES PROPERLY\n",
    "### SET DIRECTORIES PROPERLY\n",
    "\n",
    "FS=~/fs # Freesurfer SUBJECTS_DIR\n",
    "DOC=~/doc/fs # Separate directory for all files going into freesurfer pipeline\n",
    "             # Volumes: mask to tessellate, segmentation for labels, brain \n",
    "             # Text files: connectome-workbench labels, freesurfer labels="
   ]
  },
  {
   "cell_type": "code",
   "execution_count": null,
   "id": "95827ea4-d435-4aa1-8bc6-806789de89c1",
   "metadata": {},
   "outputs": [],
   "source": [
    "# If Freesurfer subject directory must be added:\n",
    "mksubjdirs $subj"
   ]
  },
  {
   "cell_type": "markdown",
   "id": "93458498-7cf2-4c18-8f9f-3abc70a24465",
   "metadata": {
    "tags": []
   },
   "source": [
    "#### 1.a Import volume files"
   ]
  },
  {
   "cell_type": "code",
   "execution_count": 74,
   "id": "a649adbf-5b23-4b39-b9c2-96844df0a12f",
   "metadata": {},
   "outputs": [
    {
     "name": "stdout",
     "output_type": "stream",
     "text": [
      "/home/mavar/doc/fs/test\n"
     ]
    }
   ],
   "source": [
    "# Setup folders\n",
    "cd $DOC/$subj\n",
    "pwd\n",
    "if [ ! -d \"orig\" ]; then 'mkdir orig'; fi"
   ]
  },
  {
   "cell_type": "code",
   "execution_count": 19,
   "id": "ebadebb4-4b9a-464c-82c0-00c5ae883ca3",
   "metadata": {},
   "outputs": [],
   "source": [
    "# Change headers on all files\n",
    "cd $DOC/$subj\n",
    "pwd\n",
    "\n",
    "for file in *.nii.gz\n",
    "    do 3drefit -xdel 1.0 -ydel 1.0 -zdel 1.0 -keepcen $file\n",
    "done"
   ]
  },
  {
   "cell_type": "code",
   "execution_count": 88,
   "id": "7b601552-2a03-4349-a590-977c644ce524",
   "metadata": {},
   "outputs": [
    {
     "name": "stdout",
     "output_type": "stream",
     "text": [
      "brain.nii.gz 0.754000 10.159649 \n",
      "brainmask.nii.gz 0.000000 1.000000 \n",
      "brainmask_255.nii.gz 0.000000 255.000000 \n",
      "grey_expand.nii.gz 0.000000 45.000000 \n",
      "wmfix-test.nii.gz 0.000000 255.000000 \n",
      "wmfix.nii.gz 0.000000 75593097302243013842075385856.000000 \n"
     ]
    }
   ],
   "source": [
    "# Check intensity range of files\n",
    "cd $DOC/$subj\n",
    "for file in *.nii.gz; do echo \"$file $(fslstats ${file} -R)\"; done"
   ]
  },
  {
   "cell_type": "code",
   "execution_count": 67,
   "id": "9af1f1e3-f3b0-4501-addd-3ba3dc1cccbb",
   "metadata": {},
   "outputs": [],
   "source": [
    "# Change intensity range of masks, if needed\n",
    "\n",
    "### Selected file:\n",
    "file=wmfix.nii.gz\n",
    "###\n",
    "\n",
    "cp ${file} orig/beforemult_${file}\n",
    "fslmaths $file -mul 255  $file"
   ]
  },
  {
   "cell_type": "code",
   "execution_count": null,
   "id": "76d0275e-f116-49d1-90db-ef71b590610c",
   "metadata": {},
   "outputs": [],
   "source": [
    "# DO NOT RUN!!!\n",
    "# Attempt to use regex's to automatically set the file intensities. This is dangerous, and unnecessary!\n",
    "\n",
    "# for maskfile in *mask.nii.gz\n",
    "# do mask_range=`fslstats ${maskfile} -R` # get range of \n",
    "# mask_upper_bound=$(tmp=${mask_range#* }; echo ${tmp%.*}) # regex to get white matter upper bound\n",
    "# if [$mask_upper_bound -e 255]\n",
    "#     then\n",
    "#         echo \"yes\";\n",
    "# else\n",
    "#         fslmaths ${maskfile} -mul $(echo 255 / $mask_upper_bound | bc -l) ${maskfile%%.*}_255.nii.gz # multiply mask by upper bound\n",
    "# fi\n",
    "# done"
   ]
  },
  {
   "cell_type": "code",
   "execution_count": null,
   "id": "38655bab-47b6-4744-a094-b9c38cd2ef2b",
   "metadata": {},
   "outputs": [],
   "source": [
    "# Convert files to Freesurfer format and move to ~/fs/\n",
    "cd $DOC/$subj\n",
    "for file in *.nii.gz; do mri_convert $file ${FS}/${subj}/mri/${file%%.*}.mgz; done"
   ]
  },
  {
   "cell_type": "markdown",
   "id": "97f91a85-79d6-4b00-a7c4-69d37c080577",
   "metadata": {},
   "source": [
    "#### 1.b Prepare surface"
   ]
  },
  {
   "cell_type": "code",
   "execution_count": null,
   "id": "a538ecfe-6b45-44ab-9151-8e6ae3c23e38",
   "metadata": {},
   "outputs": [],
   "source": [
    "cd $FS/$subj\n",
    "pwd\n",
    "\n",
    "#\n",
    "# Select volume to tessellate for flattening..\n",
    "# You must do some repairs before flattening\n",
    "#\n",
    "\n",
    "### Selected volume:\n",
    "volume=wmfix.mgz\n",
    "###\n",
    "\n",
    "mri_tessellate mri/${volume} 1 surf/lh.orig.nofix # arbitary intensity value 255 is set above with fslmaths\n",
    "\n",
    "# Recommended to view the tessellation before committing to post-processing\n",
    "# freeview -f lh.orig.nofix"
   ]
  },
  {
   "cell_type": "code",
   "execution_count": null,
   "id": "bcea52e9-7ee1-42fd-8e85-5df964e5d83b",
   "metadata": {},
   "outputs": [],
   "source": [
    "# Post-process tessellation\n",
    "\n",
    "cd ${FS}/$subj/surf\n",
    "pwd\n",
    "echo \"This will take a while.\"\n",
    "\n",
    "mris_extract_main_component  lh.orig.nofix lh.orig.nofix\n",
    "mris_smooth -nw lh.orig.nofix lh.smoothwm.nofix\n",
    "mris_inflate lh.smoothwm.nofix lh.inflated.nofix\n",
    "mris_sphere -q lh.inflated.nofix lh.qsphere.nofix\n",
    "\n",
    "# attempt to automatically fix topology\n",
    "mris_euler_number ${fsSurf_temp}/${xh}.orig\n",
    "mris_remove_intersection lh.orig lh.orig\n",
    "mris_smooth lh.orig lh.smoothwm\n",
    "mris_inflate lh.smoothwm lh.inflated"
   ]
  },
  {
   "cell_type": "markdown",
   "id": "a6e63125-2a90-4dac-b8fe-5d75c4cc6b7f",
   "metadata": {},
   "source": [
    "#### 2--Import labels"
   ]
  },
  {
   "cell_type": "code",
   "execution_count": 103,
   "id": "4b958164-5e59-47d1-b228-fa5d94afd684",
   "metadata": {},
   "outputs": [
    {
     "name": "stdout",
     "output_type": "stream",
     "text": [
      "/home/mavar/fs/test/surf/label-workspace\n"
     ]
    }
   ],
   "source": [
    "# Prep folder\n",
    "\n",
    "cd ${FS}/${subj}/surf\n",
    "if [ ! -d \"label-workspace\" ]; then `mkdir label-workspace`; echo \"created folder\"; fi\n",
    "cd label-workspace\n",
    "pwd"
   ]
  },
  {
   "cell_type": "code",
   "execution_count": 115,
   "id": "870d288a-df10-45b9-948e-c84794f0b897",
   "metadata": {},
   "outputs": [
    {
     "name": "stdout",
     "output_type": "stream",
     "text": [
      "/home/mavar/fs/test/surf/label-workspace\n",
      "grey.label.nii  \u001b[0m\u001b[01;31mgrey_expand.nii.gz\u001b[0m  labelreal.txt  lh.label.gii  lh.surf.gii\n"
     ]
    }
   ],
   "source": [
    "# Grab label file\n",
    "# Assumed it is in ~/doc/fs/\n",
    "\n",
    "### Label file name:\n",
    "labelfile=grey_expand.nii.gz\n",
    "###\n",
    "\n",
    "cp ${DOC}/${subj}/${labelfile} ${FS}/${subj}/surf/label-workspace/${labelfile}\n",
    "pwd\n",
    "ls ${FS}/${subj}/surf/label-workspace/"
   ]
  },
  {
   "cell_type": "code",
   "execution_count": 107,
   "id": "933b1ff2-8d93-4d43-989a-f8887b426adf",
   "metadata": {},
   "outputs": [],
   "source": [
    "# Grab connectome-workbench label list file\n",
    "# You need to generate it in the connectome-workbench format\n",
    "# (2 lines per label)\n",
    "# <labelname>\n",
    "# <key> <red> <green> <blue> <alpha>\n",
    "# Per https://www.humanconnectome.org/software/workbench-command/-volume-label-import\n",
    "\n",
    "# <key> is a number 1..(number of labels). It's recommended that <labelname> also just be a number\n",
    "# the colors don't matter, as they're assigned by the freesurfer color table\n",
    "\n",
    "### List file name:\n",
    "listfile=labelreal.txt\n",
    "###\n",
    "\n",
    "cp ${DOC}/${subj}/${listfile} ${FS}/${subj}/surf/label-workspace/${listfile}"
   ]
  },
  {
   "cell_type": "code",
   "execution_count": 5,
   "id": "1d551156-88e4-4734-85b0-98f0d7f05865",
   "metadata": {},
   "outputs": [
    {
     "name": "stdout",
     "output_type": "stream",
     "text": [
      "color.txt\n"
     ]
    }
   ],
   "source": [
    "# Grab freesurfer color table \n",
    "# Happily, this uses the same format as Slicer\n",
    "\n",
    "### Color table name:\n",
    "colortable=color.txt\n",
    "###\n",
    "\n",
    "cp ${DOC}/${subj}/${colortable} ${FS}/${subj}/label/${colortable}\n",
    "\n",
    "ls ${FS}/${subj}/label"
   ]
  },
  {
   "cell_type": "code",
   "execution_count": 108,
   "id": "60b5f434-ef19-4bb2-a5c5-c92c7f5d2d5c",
   "metadata": {},
   "outputs": [],
   "source": [
    "# Generate connectome-workbench \"volume-label\" file\n",
    "# This output format is NII, not gii. Naming convention *.label.nii\n",
    "\n",
    "wb_command -volume-label-import ${labelfile} labelreal.txt grey.label.nii"
   ]
  },
  {
   "cell_type": "code",
   "execution_count": 3,
   "id": "22dd6169-2a7a-44fc-ab66-d533b2ad35e1",
   "metadata": {},
   "outputs": [
    {
     "name": "stdout",
     "output_type": "stream",
     "text": [
      "Converting from tkr to scanner coordinates\n",
      "Saving label-workspace/lh.surf.gii as a surface\n",
      "/home/mavar/fs/test/surf/label-workspace\n"
     ]
    }
   ],
   "source": [
    "# Grab surface to label\n",
    "# Obviously, this needs to be in the same space as the volume labels, so we use the original surface generated from the segmentation\n",
    "# The output format is *.surf.gii\n",
    "\n",
    "cd ${FS}/${subj}/surf\n",
    "\n",
    "mris_convert --to-scanner lh.orig.nofix label-workspace/lh.surf.gii\n",
    "# --to-tkr flag is needed for output surface to oriented properly\n",
    "\n",
    "cd label-workspace\n",
    "pwd"
   ]
  },
  {
   "cell_type": "code",
   "execution_count": 4,
   "id": "2207fd02-c947-4af5-a7a7-52a14212ddd7",
   "metadata": {},
   "outputs": [
    {
     "name": "stdout",
     "output_type": "stream",
     "text": [
      "1.label         \u001b[0m\u001b[01;31mgrey_expand.nii.gz\u001b[0m  lh.label.gii  \u001b[01;34mlogs\u001b[0m\n",
      "grey.label.nii  labelreal.txt       lh.surf.gii   \u001b[01;34moutput\u001b[0m\n"
     ]
    }
   ],
   "source": [
    "# Generate connectome-workbench \"surface-label\" file\n",
    "# The format is *.label.gii\n",
    "\n",
    "wb_command -volume-label-to-surface-mapping grey.label.nii lh.surf.gii lh.label.gii\n",
    "ls"
   ]
  },
  {
   "cell_type": "code",
   "execution_count": null,
   "id": "5f02c44d-1048-42d1-a9e1-46ec29441ae2",
   "metadata": {},
   "outputs": [],
   "source": [
    "# Import the surface label to freesurfer\n",
    "# This is the annoying part\n",
    "\n",
    "### Number of segments in label file:\n",
    "nsegments=45\n",
    "###\n",
    "\n",
    "# Use the R library \"freesurferformats\"\n",
    "# Read the vertex indices of each label as an integer vector, then write them back to a new label file\n",
    "\n",
    "echo \"library(\\\"freesurferformats\\\")\n",
    "options(scipen=999)\n",
    "for (i in 1:${nsegments}) {write.fs.label(sprintf(\\\"/home/mavar/fs/test/surf/label-workspace/output/%d.label\\\",i),read.fs.label.gii(\\\"/home/mavar/fs/test/surf/label-workspace/lh.label.gii\\\",i))}\" \\\n",
    "| R --no-save # Echo that string to an R prompt"
   ]
  },
  {
   "cell_type": "code",
   "execution_count": 6,
   "id": "32731aa9-caa2-48f1-8ccc-8bc33f46e533",
   "metadata": {},
   "outputs": [
    {
     "name": "stdout",
     "output_type": "stream",
     "text": [
      "rm: cannot remove '/home/mavar/fs/test/label/lh.grey.annot': No such file or directory\n",
      "Reading ctab /home/mavar/fs/test/label/color.txt\n",
      "Number of ctab entries 46\n",
      "\n",
      "7.3.2\n",
      "cwd /home/mavar\n",
      "cmdline mris_label2annot --s test --hemi lh --ctab /home/mavar/fs/test/label/color.txt --l /home/mavar/fs/test/surf/label-workspace/output/1.label --l /home/mavar/fs/test/surf/label-workspace/output/2.label --l /home/mavar/fs/test/surf/label-workspace/output/3.label --l /home/mavar/fs/test/surf/label-workspace/output/4.label --l /home/mavar/fs/test/surf/label-workspace/output/5.label --l /home/mavar/fs/test/surf/label-workspace/output/6.label --l /home/mavar/fs/test/surf/label-workspace/output/7.label --l /home/mavar/fs/test/surf/label-workspace/output/8.label --l /home/mavar/fs/test/surf/label-workspace/output/9.label --l /home/mavar/fs/test/surf/label-workspace/output/10.label --l /home/mavar/fs/test/surf/label-workspace/output/11.label --l /home/mavar/fs/test/surf/label-workspace/output/12.label --l /home/mavar/fs/test/surf/label-workspace/output/13.label --l /home/mavar/fs/test/surf/label-workspace/output/14.label --l /home/mavar/fs/test/surf/label-workspace/output/15.label --l /home/mavar/fs/test/surf/label-workspace/output/16.label --l /home/mavar/fs/test/surf/label-workspace/output/17.label --l /home/mavar/fs/test/surf/label-workspace/output/18.label --l /home/mavar/fs/test/surf/label-workspace/output/19.label --l /home/mavar/fs/test/surf/label-workspace/output/20.label --l /home/mavar/fs/test/surf/label-workspace/output/21.label --l /home/mavar/fs/test/surf/label-workspace/output/22.label --l /home/mavar/fs/test/surf/label-workspace/output/23.label --l /home/mavar/fs/test/surf/label-workspace/output/24.label --l /home/mavar/fs/test/surf/label-workspace/output/25.label --l /home/mavar/fs/test/surf/label-workspace/output/26.label --l /home/mavar/fs/test/surf/label-workspace/output/27.label --l /home/mavar/fs/test/surf/label-workspace/output/28.label --l /home/mavar/fs/test/surf/label-workspace/output/29.label --l /home/mavar/fs/test/surf/label-workspace/output/30.label --l /home/mavar/fs/test/surf/label-workspace/output/31.label --l /home/mavar/fs/test/surf/label-workspace/output/32.label --l /home/mavar/fs/test/surf/label-workspace/output/33.label --l /home/mavar/fs/test/surf/label-workspace/output/34.label --l /home/mavar/fs/test/surf/label-workspace/output/35.label --l /home/mavar/fs/test/surf/label-workspace/output/36.label --l /home/mavar/fs/test/surf/label-workspace/output/37.label --l /home/mavar/fs/test/surf/label-workspace/output/38.label --l /home/mavar/fs/test/surf/label-workspace/output/39.label --l /home/mavar/fs/test/surf/label-workspace/output/40.label --l /home/mavar/fs/test/surf/label-workspace/output/41.label --l /home/mavar/fs/test/surf/label-workspace/output/42.label --l /home/mavar/fs/test/surf/label-workspace/output/43.label --l /home/mavar/fs/test/surf/label-workspace/output/44.label --l /home/mavar/fs/test/surf/label-workspace/output/45.label --a grey \n",
      "sysname  Linux\n",
      "hostname strick-ryzen\n",
      "machine  x86_64\n",
      "user     mavar\n",
      "\n",
      "subject test\n",
      "hemi    lh\n",
      "SUBJECTS_DIR /home/mavar/fs\n",
      "ColorTable /home/mavar/fs/test/label/color.txt\n",
      "AnnotName  grey\n",
      "nlables 45\n",
      "LabelThresh 0 0.000000\n",
      "Loading /home/mavar/fs/test/surf/lh.orig\n",
      " 1 8433280 1\n",
      " 2 9557745 2\n",
      " 3 6650545 3\n",
      " 4 13809775 4\n",
      " 5 5203416 5\n",
      " 6 6652637 6\n",
      " 7 9498256 7\n",
      " 8 5793984 8\n",
      " 9 1373660 9\n",
      "10 16206 10\n",
      "11 14482175 11\n",
      "12 8545380 12\n",
      "13 15452360 13\n",
      "14 13826810 14\n",
      "15 3266292 15\n",
      "16 13539072 16\n",
      "17 5203416 17\n",
      "18 14458039 18\n",
      "19 13883063 19\n",
      "20 13614488 20\n",
      "21 13809775 21\n",
      "22 15914162 22\n",
      "23 6597700 23\n",
      "24 8635759 24\n",
      "25 16759893 25\n",
      "26 2003200 26\n",
      "27 8578774 27\n",
      "28 16206 28\n",
      "29 16777178 29\n",
      "30 16448170 30\n",
      "31 14999692 31\n",
      "32 1851836 32\n",
      "33 14204888 33\n",
      "34 4340881 34\n",
      "35 5464726 35\n",
      "36 6650545 36\n",
      "37 3266292 37\n",
      "38 14809850 38\n",
      "39 14141640 39\n",
      "40 6456132 40\n",
      "41 8433280 41\n",
      "42 10785363 42\n",
      "43 10785363 43\n",
      "44 6910882 44\n",
      "45 6910882 45\n",
      "Mapping unhit to unknown\n",
      "Found 70585 unhit vertices\n",
      "Writing annot to /home/mavar/fs/test/label/lh.grey.annot\n"
     ]
    }
   ],
   "source": [
    "# Collect labels in Freesurfer .annot file\n",
    "# Interesting musings on the FS label/annotation system:\n",
    "# https://surfer.nmr.mgh.harvard.edu/fswiki/LabelsClutsAnnotationFiles\n",
    "\n",
    "labelregex=''\n",
    "for i in $(seq 1 $nsegments); do labelregex=\"$labelregex --l ${FS}/${subj}/surf/label-workspace/output/${i}.label\"; done\n",
    "\n",
    "# I used ChatGPT to make this string before, as I was lazy\n",
    "\n",
    "rm ${FS}/${subj}/label/lh.grey.annot\n",
    "# This is the only function in Freesurfer than warns you before overwriting files (which I actually like)\n",
    "\n",
    "# The documentation on this is particularly poor; the man page for mris_label2annot does not even specify what the required arguments of the function are\n",
    "mris_label2annot --s $subj --hemi lh --ctab ${FS}/${subj}/label/${colortable} ${labelregex} --a grey"
   ]
  },
  {
   "cell_type": "code",
   "execution_count": null,
   "id": "44293357-6fc4-45ce-a28e-15e677374b7b",
   "metadata": {},
   "outputs": [],
   "source": [
    "# Test it out\n",
    "\n",
    "freeview -f lh.orig annot=lh.grey.annot"
   ]
  },
  {
   "cell_type": "code",
   "execution_count": null,
   "id": "daa9ecc4-970b-4d42-9b0d-85f96a2ba54e",
   "metadata": {},
   "outputs": [],
   "source": [
    "# Now you're on your own. Cut a patch in Freeview, run mris_flatten and pray."
   ]
  }
 ],
 "metadata": {
  "kernelspec": {
   "display_name": "Bash",
   "language": "bash",
   "name": "bash"
  },
  "language_info": {
   "codemirror_mode": "shell",
   "file_extension": ".sh",
   "mimetype": "text/x-sh",
   "name": "bash"
  }
 },
 "nbformat": 4,
 "nbformat_minor": 5
}
